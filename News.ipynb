{
 "cells": [
  {
   "cell_type": "markdown",
   "id": "7df20fdc",
   "metadata": {},
   "source": [
    "# Aplikasi NLP"
   ]
  },
  {
   "cell_type": "code",
   "execution_count": null,
   "id": "a9326b71",
   "metadata": {},
   "outputs": [
    {
     "name": "stderr",
     "output_type": "stream",
     "text": [
      "\n",
      "[notice] A new release of pip is available: 24.0 -> 25.1.1\n",
      "[notice] To update, run: python.exe -m pip install --upgrade pip\n"
     ]
    },
    {
     "name": "stdout",
     "output_type": "stream",
     "text": [
      "Requirement already satisfied: Sastrawi in c:\\users\\rifqi\\appdata\\local\\programs\\python\\python312\\lib\\site-packages (1.0.1)\n"
     ]
    }
   ],
   "source": [
    "! pip install Sastrawi\n",
    "from sklearn.pipeline import Pipeline\n",
    "from Sastrawi.Stemmer.StemmerFactory import StemmerFactory     "
   ]
  },
  {
   "cell_type": "code",
   "execution_count": null,
   "id": "dfc66547",
   "metadata": {},
   "outputs": [
    {
     "name": "stdout",
     "output_type": "stream",
     "text": [
      "Requirement already satisfied: nltk in c:\\users\\rifqi\\appdata\\local\\programs\\python\\python312\\lib\\site-packages (3.9.1)\n",
      "Requirement already satisfied: click in c:\\users\\rifqi\\appdata\\local\\programs\\python\\python312\\lib\\site-packages (from nltk) (8.2.1)\n",
      "Requirement already satisfied: joblib in c:\\users\\rifqi\\appdata\\local\\programs\\python\\python312\\lib\\site-packages (from nltk) (1.4.2)\n",
      "Requirement already satisfied: regex>=2021.8.3 in c:\\users\\rifqi\\appdata\\local\\programs\\python\\python312\\lib\\site-packages (from nltk) (2024.11.6)\n",
      "Requirement already satisfied: tqdm in c:\\users\\rifqi\\appdata\\local\\programs\\python\\python312\\lib\\site-packages (from nltk) (4.66.4)\n",
      "Requirement already satisfied: colorama in c:\\users\\rifqi\\appdata\\local\\programs\\python\\python312\\lib\\site-packages (from click->nltk) (0.4.6)\n",
      "Note: you may need to restart the kernel to use updated packages.\n"
     ]
    },
    {
     "name": "stderr",
     "output_type": "stream",
     "text": [
      "\n",
      "[notice] A new release of pip is available: 24.0 -> 25.1.1\n",
      "[notice] To update, run: python.exe -m pip install --upgrade pip\n"
     ]
    }
   ],
   "source": [
    "pip install nltk#library untuk NLP"
   ]
  },
  {
   "cell_type": "code",
   "execution_count": null,
   "id": "09bb289e",
   "metadata": {},
   "outputs": [
    {
     "name": "stderr",
     "output_type": "stream",
     "text": [
      "[nltk_data] Downloading package stopwords to\n",
      "[nltk_data]     C:\\Users\\rifqi\\AppData\\Roaming\\nltk_data...\n",
      "[nltk_data]   Package stopwords is already up-to-date!\n",
      "[nltk_data] Downloading package punkt to\n",
      "[nltk_data]     C:\\Users\\rifqi\\AppData\\Roaming\\nltk_data...\n",
      "[nltk_data]   Package punkt is already up-to-date!\n"
     ]
    }
   ],
   "source": [
    "import pandas as pd\n",
    "import numpy as np\n",
    "import matplotlib.pyplot as plt\n",
    "import seaborn as sns\n",
    "\n",
    "import re # Regular Expression untuk membersihkan teks\n",
    "\n",
    "import nltk\n",
    "nltk.download('stopwords') # mengunduh kata kata umum seperti the,is,etc\n",
    "nltk.download('punkt') # mengunduh tokenizer untuk memecah teks menjadi kata-kata\n",
    "from nltk.corpus import stopwords # Mengimpor kumpulan stopwords untuk digunakan nanti saat membersihkan teks.\n",
    "from nltk.stem import WordNetLemmatizer # mengimpor kata untuk lemmatisasi yaitu mengubah kata ke bentuk dasarnya"
   ]
  },
  {
   "cell_type": "code",
   "execution_count": null,
   "id": "525dbe4f",
   "metadata": {},
   "outputs": [
    {
     "data": {
      "text/html": [
       "<div>\n",
       "<style scoped>\n",
       "    .dataframe tbody tr th:only-of-type {\n",
       "        vertical-align: middle;\n",
       "    }\n",
       "\n",
       "    .dataframe tbody tr th {\n",
       "        vertical-align: top;\n",
       "    }\n",
       "\n",
       "    .dataframe thead th {\n",
       "        text-align: right;\n",
       "    }\n",
       "</style>\n",
       "<table border=\"1\" class=\"dataframe\">\n",
       "  <thead>\n",
       "    <tr style=\"text-align: right;\">\n",
       "      <th></th>\n",
       "      <th>Unnamed: 0</th>\n",
       "      <th>title</th>\n",
       "      <th>text</th>\n",
       "      <th>label</th>\n",
       "    </tr>\n",
       "  </thead>\n",
       "  <tbody>\n",
       "    <tr>\n",
       "      <th>0</th>\n",
       "      <td>0</td>\n",
       "      <td>Live from New York, it's a Trump-Clinton remat...</td>\n",
       "      <td>NEW YORK (Reuters) - Veteran actor and frequen...</td>\n",
       "      <td>1</td>\n",
       "    </tr>\n",
       "    <tr>\n",
       "      <th>1</th>\n",
       "      <td>1</td>\n",
       "      <td>Catalan separatists to lose majority in tight ...</td>\n",
       "      <td>BARCELONA (Reuters) - Catalonia s independence...</td>\n",
       "      <td>1</td>\n",
       "    </tr>\n",
       "    <tr>\n",
       "      <th>2</th>\n",
       "      <td>2</td>\n",
       "      <td>North Carolina governor concedes election to D...</td>\n",
       "      <td>WINSTON-SALEM, N.C. (Reuters) - North Carolina...</td>\n",
       "      <td>1</td>\n",
       "    </tr>\n",
       "    <tr>\n",
       "      <th>3</th>\n",
       "      <td>3</td>\n",
       "      <td>Draft Senate Iran legislation sets tough new U...</td>\n",
       "      <td>WASHINGTON (Reuters) - Draft legislation respo...</td>\n",
       "      <td>1</td>\n",
       "    </tr>\n",
       "    <tr>\n",
       "      <th>4</th>\n",
       "      <td>4</td>\n",
       "      <td>California governor taps U.S. Representative B...</td>\n",
       "      <td>SACRAMENTO, Calif. (Reuters) - California Gove...</td>\n",
       "      <td>1</td>\n",
       "    </tr>\n",
       "  </tbody>\n",
       "</table>\n",
       "</div>"
      ],
      "text/plain": [
       "   Unnamed: 0                                              title  \\\n",
       "0           0  Live from New York, it's a Trump-Clinton remat...   \n",
       "1           1  Catalan separatists to lose majority in tight ...   \n",
       "2           2  North Carolina governor concedes election to D...   \n",
       "3           3  Draft Senate Iran legislation sets tough new U...   \n",
       "4           4  California governor taps U.S. Representative B...   \n",
       "\n",
       "                                                text  label  \n",
       "0  NEW YORK (Reuters) - Veteran actor and frequen...      1  \n",
       "1  BARCELONA (Reuters) - Catalonia s independence...      1  \n",
       "2  WINSTON-SALEM, N.C. (Reuters) - North Carolina...      1  \n",
       "3  WASHINGTON (Reuters) - Draft legislation respo...      1  \n",
       "4  SACRAMENTO, Calif. (Reuters) - California Gove...      1  "
      ]
     },
     "execution_count": 5,
     "metadata": {},
     "output_type": "execute_result"
    }
   ],
   "source": [
    "train_df = pd.read_csv(r'C:\\Users\\rifqi\\Documents\\Belajar Data Science\\Streamlit\\Data.csv', on_bad_lines='skip',sep=';')\n",
    "train_df.head()# melihat 5 baris pertama"
   ]
  },
  {
   "cell_type": "code",
   "execution_count": null,
   "id": "6a192367",
   "metadata": {},
   "outputs": [
    {
     "data": {
      "text/html": [
       "<div>\n",
       "<style scoped>\n",
       "    .dataframe tbody tr th:only-of-type {\n",
       "        vertical-align: middle;\n",
       "    }\n",
       "\n",
       "    .dataframe tbody tr th {\n",
       "        vertical-align: top;\n",
       "    }\n",
       "\n",
       "    .dataframe thead th {\n",
       "        text-align: right;\n",
       "    }\n",
       "</style>\n",
       "<table border=\"1\" class=\"dataframe\">\n",
       "  <thead>\n",
       "    <tr style=\"text-align: right;\">\n",
       "      <th></th>\n",
       "      <th>title</th>\n",
       "      <th>text</th>\n",
       "      <th>label</th>\n",
       "      <th>content</th>\n",
       "    </tr>\n",
       "  </thead>\n",
       "  <tbody>\n",
       "    <tr>\n",
       "      <th>0</th>\n",
       "      <td>Live from New York, it's a Trump-Clinton remat...</td>\n",
       "      <td>NEW YORK (Reuters) - Veteran actor and frequen...</td>\n",
       "      <td>1</td>\n",
       "      <td>Live from New York, it's a Trump-Clinton remat...</td>\n",
       "    </tr>\n",
       "    <tr>\n",
       "      <th>1</th>\n",
       "      <td>Catalan separatists to lose majority in tight ...</td>\n",
       "      <td>BARCELONA (Reuters) - Catalonia s independence...</td>\n",
       "      <td>1</td>\n",
       "      <td>Catalan separatists to lose majority in tight ...</td>\n",
       "    </tr>\n",
       "    <tr>\n",
       "      <th>2</th>\n",
       "      <td>North Carolina governor concedes election to D...</td>\n",
       "      <td>WINSTON-SALEM, N.C. (Reuters) - North Carolina...</td>\n",
       "      <td>1</td>\n",
       "      <td>North Carolina governor concedes election to D...</td>\n",
       "    </tr>\n",
       "    <tr>\n",
       "      <th>3</th>\n",
       "      <td>Draft Senate Iran legislation sets tough new U...</td>\n",
       "      <td>WASHINGTON (Reuters) - Draft legislation respo...</td>\n",
       "      <td>1</td>\n",
       "      <td>Draft Senate Iran legislation sets tough new U...</td>\n",
       "    </tr>\n",
       "    <tr>\n",
       "      <th>4</th>\n",
       "      <td>California governor taps U.S. Representative B...</td>\n",
       "      <td>SACRAMENTO, Calif. (Reuters) - California Gove...</td>\n",
       "      <td>1</td>\n",
       "      <td>California governor taps U.S. Representative B...</td>\n",
       "    </tr>\n",
       "  </tbody>\n",
       "</table>\n",
       "</div>"
      ],
      "text/plain": [
       "                                               title  \\\n",
       "0  Live from New York, it's a Trump-Clinton remat...   \n",
       "1  Catalan separatists to lose majority in tight ...   \n",
       "2  North Carolina governor concedes election to D...   \n",
       "3  Draft Senate Iran legislation sets tough new U...   \n",
       "4  California governor taps U.S. Representative B...   \n",
       "\n",
       "                                                text  label  \\\n",
       "0  NEW YORK (Reuters) - Veteran actor and frequen...      1   \n",
       "1  BARCELONA (Reuters) - Catalonia s independence...      1   \n",
       "2  WINSTON-SALEM, N.C. (Reuters) - North Carolina...      1   \n",
       "3  WASHINGTON (Reuters) - Draft legislation respo...      1   \n",
       "4  SACRAMENTO, Calif. (Reuters) - California Gove...      1   \n",
       "\n",
       "                                             content  \n",
       "0  Live from New York, it's a Trump-Clinton remat...  \n",
       "1  Catalan separatists to lose majority in tight ...  \n",
       "2  North Carolina governor concedes election to D...  \n",
       "3  Draft Senate Iran legislation sets tough new U...  \n",
       "4  California governor taps U.S. Representative B...  "
      ]
     },
     "execution_count": 7,
     "metadata": {},
     "output_type": "execute_result"
    }
   ],
   "source": [
    "train_df = train_df[['title', 'text', 'label']]#memilih hanya 3 kolom penting\n",
    "train_df['content'] = train_df['title'] + \" \" + train_df['text']#membuat kolom baru bernama content dan diisi dengan kolom title dan text\n",
    "\n",
    "train_df.head()"
   ]
  },
  {
   "cell_type": "code",
   "execution_count": null,
   "id": "5b5026d7",
   "metadata": {},
   "outputs": [
    {
     "data": {
      "text/plain": [
       "<Compressed Sparse Row sparse matrix of dtype 'float64'\n",
       "\twith 1071029 stored elements and shape (8117, 5000)>"
      ]
     },
     "execution_count": 8,
     "metadata": {},
     "output_type": "execute_result"
    }
   ],
   "source": [
    "from sklearn.feature_extraction.text import TfidfVectorizer #mengubah teks menjadi angka berdasarkan tf-idf\n",
    "\n",
    "X = train_df['content']# fitur input\n",
    "y = train_df['label']# target atau label\n",
    "\n",
    "tfidf_vectorizer = TfidfVectorizer(max_features=5000, ngram_range=(1, 2), stop_words='english')\n",
    "# Hanya mengambil 5000 fitur lalu gunakan unigram(kata tunggal) dan bigram(pasangan kata) selanjutnya hapus stopwords dalam bahasa inggris\n",
    "review_tf = tfidf_vectorizer.fit_transform(X.astype('U'))\n",
    "#memastikasn semua data dalam tipe string unicode dan akan kita train dari teks untuk membuat tf-idf lalu mengubah  semua teks menjadi matriks angka berbentuk sparse matrix\n",
    "review_tf"
   ]
  },
  {
   "cell_type": "code",
   "execution_count": null,
   "id": "0fb3213e",
   "metadata": {},
   "outputs": [],
   "source": [
    "from sklearn.model_selection import train_test_split # untuk membagi data\n",
    "\n",
    "X_train, X_test, y_train, y_test = train_test_split(review_tf, y, train_size = 0.8, test_size = 0.2, random_state = 42)\n",
    "# review_tf\t            Fitur input (hasil transformasi TF-IDF dari teks).\n",
    "# y\t                    Target label (seperti 0/1 untuk klasifikasi).\n",
    "# train_size=0.8\t    80% data digunakan untuk melatih model.\n",
    "# test_size=0.2\t20%     data digunakan untuk mengukur performa model.\n",
    "# random_state=42\t    Seed acak untuk memastikan hasil pembagian konsisten setiap kali kode dijalankan."
   ]
  },
  {
   "cell_type": "markdown",
   "id": "eb5b47bb",
   "metadata": {},
   "source": [
    "## pelatihan model klasifikasi dengan Random Forest"
   ]
  },
  {
   "cell_type": "code",
   "execution_count": null,
   "id": "b244c10b",
   "metadata": {},
   "outputs": [
    {
     "name": "stdout",
     "output_type": "stream",
     "text": [
      "Random Forest Accuracy:  0.979679802955665\n",
      "Random Forest Precision:  0.9791260544006997\n",
      "Random Forest Recall:  0.9806826749525921\n",
      "Random Forest F1 Score:  0.9796316038515698\n",
      "confusion matrix:\n",
      " [[756   3]\n",
      " [ 30 835]]\n",
      "----------------------------------------------------------\n",
      "              precision    recall  f1-score   support\n",
      "\n",
      "           0       0.96      1.00      0.98       759\n",
      "           1       1.00      0.97      0.98       865\n",
      "\n",
      "    accuracy                           0.98      1624\n",
      "   macro avg       0.98      0.98      0.98      1624\n",
      "weighted avg       0.98      0.98      0.98      1624\n",
      "\n"
     ]
    }
   ],
   "source": [
    "from sklearn.ensemble import RandomForestClassifier\n",
    "from sklearn.metrics import accuracy_score, precision_score, recall_score, f1_score\n",
    "from sklearn.metrics import classification_report\n",
    "from sklearn.metrics import confusion_matrix\n",
    "\n",
    "clf_rf = RandomForestClassifier().fit(X_train, y_train)# membuat model random forest\n",
    "predicted_rf = clf_rf.predict(X_test)# model memprediksi label dari x_test dan hasilnya akan disimpan di predicted_rf\n",
    "\n",
    "rf_accuracy = accuracy_score(y_test, predicted_rf)\n",
    "\n",
    "print(\"Random Forest Accuracy: \", accuracy_score(y_test, predicted_rf)) # mengukur  seberapa banyak prediksi yang benar dibandingkan total data.\n",
    "print(\"Random Forest Precision: \", precision_score(y_test, predicted_rf, average = \"macro\"))#  dari semua prediksi positif, berapa banyak yang benar.\n",
    "print(\"Random Forest Recall: \", recall_score(y_test, predicted_rf, average = \"macro\"))#  dari semua data yang seharusnya positif, berapa banyak yang berhasil diprediksi benar\n",
    "print(\"Random Forest F1 Score: \", f1_score(y_test, predicted_rf, average = \"macro\"))# komposisi dari presisi dan recall.\n",
    "\n",
    "print(f'confusion matrix:\\n {confusion_matrix(y_test, predicted_rf)}')# menampilkan tabel 2D, dimana Baris berisi label sebenarnya dan kolom berisi label yang diprediksi\n",
    "print(\"----------------------------------------------------------\")\n",
    "print(classification_report(y_test, predicted_rf, zero_division = 0)) # menampilkan semua matriks  (precision, recall, F1, support)"
   ]
  },
  {
   "cell_type": "markdown",
   "id": "dcbe7818",
   "metadata": {},
   "source": [
    "### Penjelasan mengenai hasil evaluasi\n",
    "\n",
    "#### Accuracy \n",
    "\n",
    "```\n",
    "Random Forest Accuracy: 0.9796\n",
    "```\n",
    "- Dari 97.96% diprediksi dengan benar oleh model.\n",
    "\n",
    "#### Precision\n",
    "\n",
    "```\n",
    "Random Forest Precision (macro): 0.9791\n",
    "```\n",
    "\n",
    "- Precision mengukur: dari semua prediksi positif, berapa persen yang benar-benar positif \n",
    "- Precision kelas 0: 0.96 --> 96% prediksi untuk kelas 0 benar\n",
    "- Precision kelas 1: 1.00 --> 100% prediksi untuk kelas 1 benar\n",
    "\n",
    "#### Recall\n",
    "\n",
    "```\n",
    "Random Forest Recall (macro): 0.98076\n",
    "```\n",
    "- Recall kelas 0: 1.00 --> Semua data kelas 0 berhasil diprediksi dengan benar\n",
    "- Recall kelas 1: 0.97 --> 97% data kelas 1 berhasil diprediksi dengan benar\n",
    "\n",
    "#### F1 Score\n",
    "\n",
    "```\n",
    "Random Forest F1 Score (macro): 0.9796\n",
    "```\n",
    "- F1 kelas 0: 0.98\n",
    "- F1 kelas 1: 0.98\n",
    "\n",
    "#### Confusion Matrix\n",
    "\n",
    "```\n",
    "[[756   3]\n",
    " [ 30 835]]\n",
    "```\n",
    "\n",
    "|               | Prediksi: 0 | Prediksi: 1 |\n",
    "| ------------- | ----------- | ----------- |\n",
    "| **Aktual: 0** | 756 (TP)    | 3 (FP)      |\n",
    "| **Aktual: 1** | 30 (FN)     | 835 (TP)    |\n",
    "\n",
    "\n",
    "#### Classification Report\n",
    "\n",
    "- Support: jumlah data sebenarnya di setiap kelas\n",
    "- Weighted avg: rata-rata dihitung berdasarkan banyaknya data tiap kelas\n",
    "- Semua metrik sangat tinggi (≈0.98), menandakan model bekerja sangat baik di kedua kelas.\n",
    "\n",
    "\n",
    "\n"
   ]
  },
  {
   "cell_type": "markdown",
   "id": "118e5974",
   "metadata": {},
   "source": [
    "##  Validasi model Random Forest terhadap data baru"
   ]
  },
  {
   "cell_type": "code",
   "execution_count": null,
   "id": "e802f294",
   "metadata": {},
   "outputs": [
    {
     "name": "stdout",
     "output_type": "stream",
     "text": [
      "Validation Accuracy:  0.9959344585437969\n",
      "Validation Precision:  0.9956858848373721\n",
      "Validation Recall:  0.9961631061786684\n",
      "Validation F1 Score:  0.995913303839843\n",
      "Confusion matrix:/n[[3750    3]\n",
      " [  30 4334]]\n",
      "              precision    recall  f1-score   support\n",
      "\n",
      "           0       0.99      1.00      1.00      3753\n",
      "           1       1.00      0.99      1.00      4364\n",
      "\n",
      "    accuracy                           1.00      8117\n",
      "   macro avg       1.00      1.00      1.00      8117\n",
      "weighted avg       1.00      1.00      1.00      8117\n",
      "\n"
     ]
    },
    {
     "data": {
      "text/html": [
       "<div>\n",
       "<style scoped>\n",
       "    .dataframe tbody tr th:only-of-type {\n",
       "        vertical-align: middle;\n",
       "    }\n",
       "\n",
       "    .dataframe tbody tr th {\n",
       "        vertical-align: top;\n",
       "    }\n",
       "\n",
       "    .dataframe thead th {\n",
       "        text-align: right;\n",
       "    }\n",
       "</style>\n",
       "<table border=\"1\" class=\"dataframe\">\n",
       "  <thead>\n",
       "    <tr style=\"text-align: right;\">\n",
       "      <th></th>\n",
       "      <th>title</th>\n",
       "      <th>text</th>\n",
       "      <th>label</th>\n",
       "      <th>content</th>\n",
       "      <th>Predicted Label</th>\n",
       "    </tr>\n",
       "  </thead>\n",
       "  <tbody>\n",
       "    <tr>\n",
       "      <th>0</th>\n",
       "      <td>Live from New York, it's a Trump-Clinton remat...</td>\n",
       "      <td>NEW YORK (Reuters) - Veteran actor and frequen...</td>\n",
       "      <td>1</td>\n",
       "      <td>Live from New York, it's a Trump-Clinton remat...</td>\n",
       "      <td>1</td>\n",
       "    </tr>\n",
       "    <tr>\n",
       "      <th>1</th>\n",
       "      <td>Catalan separatists to lose majority in tight ...</td>\n",
       "      <td>BARCELONA (Reuters) - Catalonia s independence...</td>\n",
       "      <td>1</td>\n",
       "      <td>Catalan separatists to lose majority in tight ...</td>\n",
       "      <td>1</td>\n",
       "    </tr>\n",
       "    <tr>\n",
       "      <th>2</th>\n",
       "      <td>North Carolina governor concedes election to D...</td>\n",
       "      <td>WINSTON-SALEM, N.C. (Reuters) - North Carolina...</td>\n",
       "      <td>1</td>\n",
       "      <td>North Carolina governor concedes election to D...</td>\n",
       "      <td>1</td>\n",
       "    </tr>\n",
       "    <tr>\n",
       "      <th>3</th>\n",
       "      <td>Draft Senate Iran legislation sets tough new U...</td>\n",
       "      <td>WASHINGTON (Reuters) - Draft legislation respo...</td>\n",
       "      <td>1</td>\n",
       "      <td>Draft Senate Iran legislation sets tough new U...</td>\n",
       "      <td>1</td>\n",
       "    </tr>\n",
       "    <tr>\n",
       "      <th>4</th>\n",
       "      <td>California governor taps U.S. Representative B...</td>\n",
       "      <td>SACRAMENTO, Calif. (Reuters) - California Gove...</td>\n",
       "      <td>1</td>\n",
       "      <td>California governor taps U.S. Representative B...</td>\n",
       "      <td>1</td>\n",
       "    </tr>\n",
       "  </tbody>\n",
       "</table>\n",
       "</div>"
      ],
      "text/plain": [
       "                                               title  \\\n",
       "0  Live from New York, it's a Trump-Clinton remat...   \n",
       "1  Catalan separatists to lose majority in tight ...   \n",
       "2  North Carolina governor concedes election to D...   \n",
       "3  Draft Senate Iran legislation sets tough new U...   \n",
       "4  California governor taps U.S. Representative B...   \n",
       "\n",
       "                                                text  label  \\\n",
       "0  NEW YORK (Reuters) - Veteran actor and frequen...      1   \n",
       "1  BARCELONA (Reuters) - Catalonia s independence...      1   \n",
       "2  WINSTON-SALEM, N.C. (Reuters) - North Carolina...      1   \n",
       "3  WASHINGTON (Reuters) - Draft legislation respo...      1   \n",
       "4  SACRAMENTO, Calif. (Reuters) - California Gove...      1   \n",
       "\n",
       "                                             content  Predicted Label  \n",
       "0  Live from New York, it's a Trump-Clinton remat...                1  \n",
       "1  Catalan separatists to lose majority in tight ...                1  \n",
       "2  North Carolina governor concedes election to D...                1  \n",
       "3  Draft Senate Iran legislation sets tough new U...                1  \n",
       "4  California governor taps U.S. Representative B...                1  "
      ]
     },
     "execution_count": 13,
     "metadata": {},
     "output_type": "execute_result"
    }
   ],
   "source": [
    "# melakukan validasi model Random Forest terhadap data baru\n",
    "\n",
    "valid_df = pd.read_csv(r'C:\\Users\\rifqi\\Documents\\Belajar Data Science\\Streamlit\\Data.csv', on_bad_lines='skip',sep=';')\n",
    "\n",
    "valid_df = valid_df[['title', 'text', 'label']]\n",
    "valid_df['content'] = valid_df['title'] + \" \" + valid_df['text']\n",
    "\n",
    "validation_X = valid_df['content']\n",
    "validation_tf = tfidf_vectorizer.transform(validation_X.astype('U'))\n",
    "\n",
    "validation_predictions = clf_rf.predict(validation_tf)\n",
    "\n",
    "if 'label' in valid_df.columns:\n",
    "    validation_y = valid_df['label']\n",
    "    print(\"Validation Accuracy: \", accuracy_score(validation_y, validation_predictions))\n",
    "    print(\"Validation Precision: \", precision_score(validation_y, validation_predictions, average='macro'))\n",
    "    print(\"Validation Recall: \", recall_score(validation_y, validation_predictions, average='macro'))\n",
    "    print(\"Validation F1 Score: \", f1_score(validation_y, validation_predictions, average='macro'))\n",
    "    print(f'Confusion matrix:/n{confusion_matrix(validation_y, validation_predictions)}')\n",
    "    print(classification_report(validation_y, validation_predictions, zero_division=0))\n",
    "\n",
    "valid_df['Predicted Label'] = validation_predictions\n",
    "valid_df.head()"
   ]
  },
  {
   "cell_type": "markdown",
   "id": "40a7bfca",
   "metadata": {},
   "source": [
    "## Menyimpan model machine learning dan TF-IDF vectorizer ke dalam file"
   ]
  },
  {
   "cell_type": "code",
   "execution_count": null,
   "id": "8f360947",
   "metadata": {},
   "outputs": [
    {
     "name": "stdout",
     "output_type": "stream",
     "text": [
      "TF-IDF Vectorizer saved to 'tfidf_vectorizer.sav'\n",
      "Random Forest model saved to 'random_forest_model.sav'\n"
     ]
    }
   ],
   "source": [
    "# menyimpan model machine learning dan TF-IDF vectorizer ke dalam file, agar nanti bisa digunakan kembali tanpa harus dilatih ulang.\n",
    "\n",
    "import pickle #  modul Python untuk menyimpan (serialize) dan memuat (deserialize) objek Python dalam bentuk file biner (.sav, .pkl, dll).\n",
    "\n",
    "# Simpan TF-IDF Vectorizer\n",
    "with open('tfidf_vectorizer.sav', 'wb') as f:# buka file untuk ditulis dalam mode binary (.sav)\n",
    "    pickle.dump(tfidf_vectorizer, f)# simpan objek tfidf_vectorizer ke file tersebut\n",
    "print(\"TF-IDF Vectorizer saved to 'tfidf_vectorizer.sav'\")\n",
    "\n",
    "# Simpan Random Forest Model\n",
    "with open('random_forest_model.sav', 'wb') as f:\n",
    "    pickle.dump(clf_rf, f)\n",
    "print(\"Random Forest model saved to 'random_forest_model.sav'\")\n"
   ]
  },
  {
   "cell_type": "markdown",
   "id": "831adf3d",
   "metadata": {},
   "source": [
    "##  load model machine learning dan TF-IDF vectorizer dari file .sav"
   ]
  },
  {
   "cell_type": "code",
   "execution_count": 15,
   "id": "eed17d86",
   "metadata": {},
   "outputs": [
    {
     "name": "stdout",
     "output_type": "stream",
     "text": [
      "TF-IDF Vectorizer loaded successfully.\n",
      "Random Forest model loaded successfully.\n"
     ]
    }
   ],
   "source": [
    "# Load TF-IDF Vectorizer\n",
    "with open('tfidf_vectorizer.sav', 'rb') as f:\n",
    "    tfidf_vectorizer_loaded = pickle.load(f)\n",
    "print(\"TF-IDF Vectorizer loaded successfully.\")\n",
    "\n",
    "# Load Random Forest Model\n",
    "with open('random_forest_model.sav', 'rb') as f:\n",
    "    clf_rf_loaded = pickle.load(f)\n",
    "print(\"Random Forest model loaded successfully.\")"
   ]
  },
  {
   "cell_type": "markdown",
   "id": "ba508eea",
   "metadata": {},
   "source": [
    "## Pengujian model yang sudah disimpan dan dimuat ulang"
   ]
  },
  {
   "cell_type": "code",
   "execution_count": null,
   "id": "f9b6a8e6",
   "metadata": {},
   "outputs": [
    {
     "name": "stdout",
     "output_type": "stream",
     "text": [
      "Test Accuracy:  0.9959344585437969\n",
      "Test Precision:  0.9956858848373721\n",
      "Test Recall:  0.9961631061786684\n",
      "Test F1 Score:  0.995913303839843\n",
      "Confusion matrix:/n[[3750    3]\n",
      " [  30 4334]]\n",
      "              precision    recall  f1-score   support\n",
      "\n",
      "           0       0.99      1.00      1.00      3753\n",
      "           1       1.00      0.99      1.00      4364\n",
      "\n",
      "    accuracy                           1.00      8117\n",
      "   macro avg       1.00      1.00      1.00      8117\n",
      "weighted avg       1.00      1.00      1.00      8117\n",
      "\n"
     ]
    },
    {
     "data": {
      "text/html": [
       "<div>\n",
       "<style scoped>\n",
       "    .dataframe tbody tr th:only-of-type {\n",
       "        vertical-align: middle;\n",
       "    }\n",
       "\n",
       "    .dataframe tbody tr th {\n",
       "        vertical-align: top;\n",
       "    }\n",
       "\n",
       "    .dataframe thead th {\n",
       "        text-align: right;\n",
       "    }\n",
       "</style>\n",
       "<table border=\"1\" class=\"dataframe\">\n",
       "  <thead>\n",
       "    <tr style=\"text-align: right;\">\n",
       "      <th></th>\n",
       "      <th>title</th>\n",
       "      <th>text</th>\n",
       "      <th>label</th>\n",
       "      <th>content</th>\n",
       "      <th>Predicted Label</th>\n",
       "    </tr>\n",
       "  </thead>\n",
       "  <tbody>\n",
       "    <tr>\n",
       "      <th>0</th>\n",
       "      <td>Live from New York, it's a Trump-Clinton remat...</td>\n",
       "      <td>NEW YORK (Reuters) - Veteran actor and frequen...</td>\n",
       "      <td>1</td>\n",
       "      <td>Live from New York, it's a Trump-Clinton remat...</td>\n",
       "      <td>1</td>\n",
       "    </tr>\n",
       "    <tr>\n",
       "      <th>1</th>\n",
       "      <td>Catalan separatists to lose majority in tight ...</td>\n",
       "      <td>BARCELONA (Reuters) - Catalonia s independence...</td>\n",
       "      <td>1</td>\n",
       "      <td>Catalan separatists to lose majority in tight ...</td>\n",
       "      <td>1</td>\n",
       "    </tr>\n",
       "    <tr>\n",
       "      <th>2</th>\n",
       "      <td>North Carolina governor concedes election to D...</td>\n",
       "      <td>WINSTON-SALEM, N.C. (Reuters) - North Carolina...</td>\n",
       "      <td>1</td>\n",
       "      <td>North Carolina governor concedes election to D...</td>\n",
       "      <td>1</td>\n",
       "    </tr>\n",
       "    <tr>\n",
       "      <th>3</th>\n",
       "      <td>Draft Senate Iran legislation sets tough new U...</td>\n",
       "      <td>WASHINGTON (Reuters) - Draft legislation respo...</td>\n",
       "      <td>1</td>\n",
       "      <td>Draft Senate Iran legislation sets tough new U...</td>\n",
       "      <td>1</td>\n",
       "    </tr>\n",
       "    <tr>\n",
       "      <th>4</th>\n",
       "      <td>California governor taps U.S. Representative B...</td>\n",
       "      <td>SACRAMENTO, Calif. (Reuters) - California Gove...</td>\n",
       "      <td>1</td>\n",
       "      <td>California governor taps U.S. Representative B...</td>\n",
       "      <td>1</td>\n",
       "    </tr>\n",
       "  </tbody>\n",
       "</table>\n",
       "</div>"
      ],
      "text/plain": [
       "                                               title  \\\n",
       "0  Live from New York, it's a Trump-Clinton remat...   \n",
       "1  Catalan separatists to lose majority in tight ...   \n",
       "2  North Carolina governor concedes election to D...   \n",
       "3  Draft Senate Iran legislation sets tough new U...   \n",
       "4  California governor taps U.S. Representative B...   \n",
       "\n",
       "                                                text  label  \\\n",
       "0  NEW YORK (Reuters) - Veteran actor and frequen...      1   \n",
       "1  BARCELONA (Reuters) - Catalonia s independence...      1   \n",
       "2  WINSTON-SALEM, N.C. (Reuters) - North Carolina...      1   \n",
       "3  WASHINGTON (Reuters) - Draft legislation respo...      1   \n",
       "4  SACRAMENTO, Calif. (Reuters) - California Gove...      1   \n",
       "\n",
       "                                             content  Predicted Label  \n",
       "0  Live from New York, it's a Trump-Clinton remat...                1  \n",
       "1  Catalan separatists to lose majority in tight ...                1  \n",
       "2  North Carolina governor concedes election to D...                1  \n",
       "3  Draft Senate Iran legislation sets tough new U...                1  \n",
       "4  California governor taps U.S. Representative B...                1  "
      ]
     },
     "execution_count": 17,
     "metadata": {},
     "output_type": "execute_result"
    }
   ],
   "source": [
    "# pengujian model yang sudah disimpan dan dimuat ulang (TF-IDF vectorizer dan Random Forest classifier), lalu digunakan untuk memprediksi data teks\n",
    "\n",
    "test_df = pd.read_csv(r'C:\\Users\\rifqi\\Documents\\Belajar Data Science\\Streamlit\\Data.csv', on_bad_lines='skip',sep=';')\n",
    "test_df = test_df[['title', 'text', 'label']]\n",
    "test_df['content'] = test_df['title'] + \" \" + test_df['text']\n",
    "\n",
    "# ransformasi Teks ke TF-IDF\n",
    "test_X = test_df['content']\n",
    "test_tf = tfidf_vectorizer_loaded.transform(test_X.astype('U'))\n",
    "\n",
    "# Prediksi label\n",
    "test_predictions = clf_rf_loaded.predict(test_tf)\n",
    "\n",
    "# Evaluasi prediksi dengan metrik Accuracy, Precision, Recall, dan F1 Score\n",
    "if 'label' in test_df.columns:\n",
    "    test_y = test_df['label']\n",
    "    print(\"Test Accuracy: \", accuracy_score(test_y, test_predictions))\n",
    "    print(\"Test Precision: \", precision_score(test_y, test_predictions, average='macro'))\n",
    "    print(\"Test Recall: \", recall_score(test_y, test_predictions, average='macro'))\n",
    "    print(\"Test F1 Score: \", f1_score(test_y, test_predictions, average='macro'))\n",
    "    print(f'Confusion matrix:/n{confusion_matrix(test_y, test_predictions)}')\n",
    "    print(classification_report(test_y, test_predictions, zero_division=0))\n",
    "\n",
    "test_df['Predicted Label'] = test_predictions\n",
    "test_df.head()"
   ]
  },
  {
   "cell_type": "code",
   "execution_count": null,
   "id": "8cfbdbe4",
   "metadata": {},
   "outputs": [],
   "source": [
    "!pip freeze > requirements.txt # menyimpan semua library Python yang sedang terinstall "
   ]
  },
  {
   "cell_type": "code",
   "execution_count": null,
   "id": "0732c655",
   "metadata": {},
   "outputs": [],
   "source": []
  }
 ],
 "metadata": {
  "kernelspec": {
   "display_name": "Python 3",
   "language": "python",
   "name": "python3"
  },
  "language_info": {
   "codemirror_mode": {
    "name": "ipython",
    "version": 3
   },
   "file_extension": ".py",
   "mimetype": "text/x-python",
   "name": "python",
   "nbconvert_exporter": "python",
   "pygments_lexer": "ipython3",
   "version": "3.12.4"
  }
 },
 "nbformat": 4,
 "nbformat_minor": 5
}
